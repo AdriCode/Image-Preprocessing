# %% codecell
%matplotlib inline
from google.colab import drive, files

import numpy as np
import pandas as pd
import matplotlib.pyplot as plt
from matplotlib import image
from PIL import Image
import cv2, os

import torch, torchvision
import torchvision.transforms as transforms
from torchvision import datasets as dset
from torch.utils.data import DataLoader
# %% codecell
# Mount your Google Drive to Google Colab

drive.mount('/content/drive')
# %% codecell
# Change to the drive root directory

%cd /content/drive/My\ Drive/
# %% codecell
# Extract files from dataset

!unzip data.zip -d dataset
# %% codecell
# Assign filepath to a variable

data_path = "/content/drive/My Drive/dataset/"
# %% codecell
# Get a list of filenames

def get_filenames(path):
  return [os.path.join(path,f) for f in os.listdir(path) if f.endswith('.jpg')]

file_names = get_filenames(data_path)
file_names[:5]
# %% codecell
# Histogram Equalization with OpenCV [2]

def equalize_hist(img):
  gray_img = cv2.cvtColor(img, cv2.COLOR_BGR2GRAY)
  return cv2.equalizeHist(gray_img)

# %% codecell
# Apply Histogram Equalization

for infile in file_names:
    # Read image
    img = cv2.imread(infile)

    # Check if it's a three channel image
    if (len(img.shape)== 3):
      outfile = equalize_hist(img)
      cv2.imwrite(infile, outfile)
    else:
      print('No RGB image')
# %% codecell
# Data Loader and transformations

def loader(data_dir, img_size, batchSize):

  # Preprocessing: Resize, brightness corrections
  dataset = dset.ImageFolder(root = data_dir,
                            transform=transforms.Compose([
                            transforms.Resize(img_size),
                            transforms.ColorJitter(brightness=(0.5, 1.5)),
                            transforms.ToTensor(),
                            ]))

  # Loader
  dataloader = torch.utils.data.DataLoader(dataset,
                                          batch_size= batchSize,
                                          shuffle=True)

  print('Data size:', len(dataset), 'images')

  return dataloader
# %% codecell
# Iterable over dataset with parameters: image size (resize) and batch size (sample)

data_path = '.'
sample_loader = loader(data_path, 14, 4) # Pixelated for ethical reason
print('Sample size:', len(sample_loader), 'images')
# %% codecell
# Iterator over sample

sample_iter = iter(sample_loader)
sample, labels  = sample_iter.next()

print('Tensor size in sample = {}'.format(sample.size()))
# %% codecell
# RGB visualization of a single image

for i in range(0, 1):
  img = sample[i]
  im = img.permute(1,2,0)[:,:,0] #blue=0, green=1, red=2
  plt.imshow(im)
  plt.show()
# %% codecell
# Display a grid of images from sample [3]

grid_sample = torchvision.utils.make_grid(sample)
plt.figure(figsize = (20,10))
plt.imshow(grid_sample.numpy().transpose((1, 2, 0)))
plt.axis('on')
# %% codecell
# Check out directory

%cd /content/drive/My Drive/dataset/
# %% codecell
# Compress folder of processed images

!zip -r /content/drive/My\ Drive/dataset/results.zip /content/drive/My\ Drive/dataset
# %% codecell
# Download results to your computer

files.download("/content/drive/My Drive/dataset/results.zip")
# %% markdown
# **References**
#
# [1] [Basic Image Handling and Processing](https://www.oreilly.com/library/view/programming-computer-vision/9781449341916/ch01.html)
#
# [2] [OpenCV Python equalizeHist colored image](https://stackoverflow.com/questions/31998428/opencv-python-equalizehist-colored-image)
#
# [3] [PyTorch Dataset and DataLoader](https://www.kaggle.com/pinocookie/pytorch-dataset-and-dataloader)
